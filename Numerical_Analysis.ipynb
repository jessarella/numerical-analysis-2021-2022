{
  "nbformat": 4,
  "nbformat_minor": 0,
  "metadata": {
    "colab": {
      "name": "Numerical_Analysis.ipynb",
      "provenance": []
    },
    "kernelspec": {
      "name": "python3",
      "display_name": "Python 3"
    },
    "language_info": {
      "name": "python"
    }
  },
  "cells": [
    {
      "cell_type": "code",
      "execution_count": 1,
      "metadata": {
        "id": "aOTMu0cJOlOB"
      },
      "outputs": [],
      "source": [
        "%matplotlib inline\n",
        "from numpy import *\n",
        "import sklearn.datasets\n",
        "from matplotlib.pyplot import *\n",
        "import copy\n",
        "import scipy\n",
        "from scipy.sparse.linalg import *\n"
      ]
    },
    {
      "cell_type": "markdown",
      "source": [
        "**PDE**:\n",
        "implement a function that given the domain interval, the forcing function, the number of discretization points, the boundary conditions, returns the matrix *A* and the the right hand side *b*"
      ],
      "metadata": {
        "id": "alLF5R-bGHjk"
      }
    },
    {
      "cell_type": "code",
      "source": [
        "def finDif(omega,f,n,bc):\n",
        "    points=linspace(omega[0],omega[1],n) #punti di discretizzazione\n",
        "    b=zeros(n) #termine noto\n",
        "    A = zeros((n,n))\n",
        "    for i in range(1,n-1):\n",
        "        b[i]=f(points[i])\n",
        "    b[0]=bc[0]\n",
        "    b[n-1]=bc[1]\n",
        "    h=(omega[1]-omega[0])/n #passo di discretizzazione\n",
        "    for i in range(2,n-2):\n",
        "        A[i, i-1] = A[i, i+1] = -16/(12*h**2)\n",
        "        A[i, i-2] = A[i, i+2] = 1/(12*h**2)\n",
        "        A[i,i] = 30/(12*h**2)\n",
        "  \n",
        "    A[1,0]=A[1,2]=A[n-2,n-3]=A[n-2,n-1]=-1/h**2\n",
        "    A[1,1]=A[n-2,n-2]=2/h**2\n",
        "    A[0,0] = A[-1,-1]=1\n",
        "    return A, b"
      ],
      "metadata": {
        "id": "9XqcnLcUOobC"
      },
      "execution_count": 2,
      "outputs": []
    },
    {
      "cell_type": "code",
      "source": [
        "omega = [0,pi]\n",
        "f = lambda x : sin(x)\n",
        "n=100\n",
        "bc = [0,0]\n",
        "A, b = finDif(omega, f, n, bc)"
      ],
      "metadata": {
        "id": "hgrFjqy8OrCI"
      },
      "execution_count": 3,
      "outputs": []
    },
    {
      "cell_type": "markdown",
      "source": [
        "Implement two functions that compute the LU and the Cholesky factorization of the system matrix "
      ],
      "metadata": {
        "id": "Je0AS1KUHDGy"
      }
    },
    {
      "cell_type": "code",
      "source": [
        "def LU(A):\n",
        "    U=copy.deepcopy(A)\n",
        "    n=len(A)\n",
        "    L=eye(n) #L ha elementi diagonali pari a 1\n",
        "    for j in range(n-1):\n",
        "        for i in range(j+1,n):\n",
        "            L[i,j]=U[i,j]/U[j,j]\n",
        "            U[i,j:]-=L[i,j]*U[j,j:]\n",
        "    return L, U"
      ],
      "metadata": {
        "id": "UTRK8Q7ROuqB"
      },
      "execution_count": 5,
      "outputs": []
    },
    {
      "cell_type": "code",
      "source": [
        "def cholesky(A):\n",
        "    n=len(A)\n",
        "    H=zeros([n,n])\n",
        "    for j in range(n):\n",
        "        H[j,j]=(A[j,j]-sum(fromiter((H[j,k]**2 for k in range(j)),float)))**0.5\n",
        "        for i in range(j+1,n):\n",
        "            H[i,j]=(A[i,j]-sum(fromiter((H[i,k]*H[j,k] for k in range(j)),float)))/H[j,j]\n",
        "    return H, transpose(H)"
      ],
      "metadata": {
        "id": "FwX0S3RHOw0C"
      },
      "execution_count": 6,
      "outputs": []
    },
    {
      "cell_type": "markdown",
      "source": [
        "Implement forward and backward substitution functions to exploit the developed factorization methods to solve the derived linear system of equations.\n"
      ],
      "metadata": {
        "id": "rSOw7ulDHwxU"
      }
    },
    {
      "cell_type": "code",
      "source": [
        "def L_solve(L,rhs):\n",
        "    n=len(L)\n",
        "    x=zeros(n)\n",
        "    for i in range(n):\n",
        "        x[i] = rhs[i]\n",
        "        for j in range(i):\n",
        "            x[i] -= x[j]*L[i,j]\n",
        "        x[i] = x[i]/L[i,i]\n",
        "    return x"
      ],
      "metadata": {
        "id": "FrdvhoqXOzrL"
      },
      "execution_count": 7,
      "outputs": []
    },
    {
      "cell_type": "code",
      "source": [
        "def U_solve(U,rhs):\n",
        "    n=len(U)\n",
        "    x=zeros(n)\n",
        "    for i in range(n-1, -1, -1):\n",
        "        x[i] = rhs[i]\n",
        "        for j in range(n-1, i, -1):\n",
        "            x[i] -= x[j]*U[i,j]\n",
        "        x[i] = x[i]/U[i,i]\n",
        "    return x"
      ],
      "metadata": {
        "id": "D4oc5LZQO2lT"
      },
      "execution_count": 8,
      "outputs": []
    },
    {
      "cell_type": "markdown",
      "source": [
        "Solve the derived linear system using the implemented functions and plot the computed solution"
      ],
      "metadata": {
        "id": "8t6SeOM7IUxT"
      }
    },
    {
      "cell_type": "code",
      "source": [
        "def LU_solve(A,b):\n",
        "        L,U=LU(A)\n",
        "        y=U_solve(U,L_solve(L,b))\n",
        "        return y\n",
        "\n",
        "xspace=linspace(0,pi,n)\n",
        "plot(xspace,LU_solve(A,b))"
      ],
      "metadata": {
        "id": "FnLF6Nd1O5je",
        "colab": {
          "base_uri": "https://localhost:8080/",
          "height": 282
        },
        "outputId": "9541df75-9e61-4334-89a9-2dac19ca3ede"
      },
      "execution_count": 9,
      "outputs": [
        {
          "output_type": "execute_result",
          "data": {
            "text/plain": [
              "[<matplotlib.lines.Line2D at 0x7f8e39a0ec50>]"
            ]
          },
          "metadata": {},
          "execution_count": 9
        },
        {
          "output_type": "display_data",
          "data": {
            "text/plain": [
              "<Figure size 432x288 with 1 Axes>"
            ],
            "image/png": "[encoded data removed]"
          },
          "metadata": {
            "needs_background": "light"
          }
        }
      ]
    },
    {
      "cell_type": "code",
      "source": [
        "omega = [0,1]\n",
        "f = lambda x : x*(1-x) # forcing term\n",
        "n=100\n",
        "bc = [0,0]\n",
        "A, b = finDif(omega, f, n, bc)\n",
        "L,U=LU(A)\n",
        "x=linspace(0,1,n)\n",
        "y_an=x**4/12-x**3/6+x/12 #analytical solution\n",
        "y=U_solve(U,L_solve(L,b))\n",
        "plot(x,y, label = 'FD' )\n",
        "plot(x,y_an, label = 'Analytical solution')\n",
        "legend()\n"
      ],
      "metadata": {
        "id": "RjP0y26LO8fe",
        "colab": {
          "base_uri": "https://localhost:8080/",
          "height": 282
        },
        "outputId": "9e9366d4-9006-44f4-99e4-5f6ccd912110"
      },
      "execution_count": 12,
      "outputs": [
        {
          "output_type": "execute_result",
          "data": {
            "text/plain": [
              "<matplotlib.legend.Legend at 0x7f8e39272090>"
            ]
          },
          "metadata": {},
          "execution_count": 12
        },
        {
          "output_type": "display_data",
          "data": {
            "text/plain": [
              "<Figure size 432x288 with 1 Axes>"
            ],
            "image/png": "[encoded data removed]"
          },
          "metadata": {
            "needs_background": "light"
          }
        }
      ]
    },
    {
      "cell_type": "markdown",
      "source": [
        "Exploit the derived LU factorizations to compute the condition number of the system's matrix using the original problem formulation."
      ],
      "metadata": {
        "id": "qlS7VXx8PDRn"
      }
    },
    {
      "cell_type": "code",
      "source": [
        "def direct_power_method(A,nmax,tol):\n",
        "    x0=random.rand(len(A)) #vettore iniziale arbitrario\n",
        "    y = x0/linalg.norm(x0,2) #vettore iniziale normalizzato\n",
        "    it = 0\n",
        "    err = tol + 0.1\n",
        "    while it < nmax and err > tol:\n",
        "        x = dot(A,y)\n",
        "        ev = dot(y.T,x) #eigenvalue\n",
        "        err = linalg.norm(x-ev*y,2)\n",
        "        y = x/linalg.norm(x,2)\n",
        "        it += 1\n",
        "    return ev,y\n",
        "\n",
        "def inverse_power_method(A,nmax,tol):\n",
        "    n=len(A)\n",
        "    L,U=LU(A)\n",
        "    B=A.copy()\n",
        "    I=eye(n)\n",
        "    for i in range(n):\n",
        "        B[:,i]=U_solve(U,L_solve(L,I[:,i])) #trovo matrice inversa\n",
        "    ev,y=direct_power_method(B,nmax,tol)\n",
        "    return 1/ev,y\n",
        "\n",
        "\n",
        "def condNumb(A):\n",
        "    ev1,x1=direct_power_method(A,500,1e-05)\n",
        "    ev2,x2=inverse_power_method(A,500,1e-05)\n",
        "    return ev1/ev2\n",
        "\n",
        "print(condNumb(A))"
      ],
      "metadata": {
        "id": "-BgkBVB0O_6y",
        "colab": {
          "base_uri": "https://localhost:8080/"
        },
        "outputId": "3eb6bb3b-a97e-4982-f40f-0c1b62132724"
      },
      "execution_count": 14,
      "outputs": [
        {
          "output_type": "stream",
          "name": "stdout",
          "text": [
            "53312.81051823134\n"
          ]
        }
      ]
    },
    {
      "cell_type": "markdown",
      "source": [
        "Implement a preconditioned Conjugant Gradient method to solve the original linear system of equations using an iterative method:\n",
        "\n"
      ],
      "metadata": {
        "id": "sTjbpfLTXwds"
      }
    },
    {
      "cell_type": "code",
      "source": [
        "def conjugate_gradient(A, b, P, nmax, eps=1e-10):\n",
        "\n",
        "    x_k = zeros_like(b)\n",
        "    r_k=b-dot(A,x_k)\n",
        "    z_k=LU_solve(P,r_k)\n",
        "    p_k=z_k #allo step zero la direzione è quella del residuo\n",
        "    tol=eps+1\n",
        "    i=0\n",
        "    while (i<nmax and tol>eps):\n",
        "        temp=dot(A,p_k)\n",
        "        alpha=dot(p_k.T,r_k)/dot(p_k.T,temp)\n",
        "        x=x_k+alpha*p_k\n",
        "        r=r_k-alpha*temp\n",
        "        z=LU_solve(P,r)\n",
        "        beta=dot(temp.T,z)/dot(temp.T,p_k) \n",
        "        p=z-beta*p_k #nuova direzione di rcerca del punto di minimo\n",
        "        tol=linalg.norm(r,2)\n",
        "        x_k=x\n",
        "        r_k=r\n",
        "        p_k=p\n",
        "        z_k=z\n",
        "    \n",
        "    return x\n",
        "        "
      ],
      "metadata": {
        "id": "e6qnlUexPEvW"
      },
      "execution_count": 15,
      "outputs": []
    },
    {
      "cell_type": "code",
      "source": [
        "def PDEsol(f,alpha,nt,nx,a,b,T,g,q,p):\n",
        "    x=linspace(a,b,nx) #discretizzo entrambe le variabili x e t\n",
        "    t=linspace(0,T,nt)\n",
        "\n",
        "    ht=T/nt\n",
        "    hx=(b-a)/nx\n",
        "    \n",
        "    A=zeros((nx,nx),dtype=float)\n",
        "    for i in range(2,nx-2):\n",
        "        A[i, i-1] = A[i, i+1] = -16/12\n",
        "        A[i, i-2] = A[i, i+2] = 1/12\n",
        "        A[i,i] = 30/(12*h**2)\n",
        "  \n",
        "    A[1,0]=A[1,2]=A[n-2,n-3]=A[n-2,n-1]=-1\n",
        "    A[1,1]=A[n-2,n-2]=2\n",
        "    A[0,0] = A[-1,-1]=1\n",
        "    \n",
        "    A=ht*A/hx**2\n",
        "\n",
        "    fx=f(x)\n",
        "    alphat=alpha(t)\n",
        "    \n",
        "    U=zeros((nt,nx),dtype=float) #pongo condizioni iniziali: u(0,x)=0, u(t,x_0)=0, u(t,x_n)=0\n",
        "    \n",
        "    for i in range(1,nt):\n",
        "        U[i,:]=dot(A,U[i-1,:])+ht*fx*alphat[i]\n",
        "      \n",
        "    return U\n",
        "\n",
        "a=0\n",
        "b=pi\n",
        "T=6*pi\n",
        "f = lambda x : sin(x)\n",
        "alpha= lambda x: cos(x)\n",
        "nx=50\n",
        "nt=100000\n",
        "bc=[0,0]\n",
        "sol=PDEsol(f,alpha,nt,nx,a,b,T)\n",
        "\n",
        "#computation of approximate x\n",
        "pai=argmin(abs(linspace(a,b,nx)-pi))*(b-a)/nx\n",
        "pai2=argmin(abs(linspace(a,b,nx)-pi/2))*(b-a)/nx\n",
        "one=argmin(abs(linspace(a,b,nx)-1))*(b-a)/nx\n",
        "\n",
        "\n",
        "\n",
        "plot(linspace(0,T,nt),sol[:,argmin(abs(linspace(a,b,nx)-pi/2))], '-b', label='x={}'.format(pai))\n",
        "plot(linspace(0,T,nt),sol[:,argmin(abs(linspace(a,b,nx)-1))], '-r',label='x={}'.format(one))\n",
        "plot(linspace(0,T,nt),sol[:,argmin(abs(linspace(a,b,nx)-pi))], '-g',label='x={}'.format(pai2))\n",
        "matplotlib.pyplot.legend()"
      ],
      "metadata": {
        "id": "4K1N7AwGPIGV",
        "colab": {
          "base_uri": "https://localhost:8080/",
          "height": 491
        },
        "outputId": "2a0dd573-d39e-48fd-9219-94d27e302489"
      },
      "execution_count": 19,
      "outputs": [
        {
          "output_type": "execute_result",
          "data": {
            "text/plain": [
              "array([[ 1.00000000e+00,  0.00000000e+00,  0.00000000e+00, ...,\n",
              "         0.00000000e+00,  0.00000000e+00,  0.00000000e+00],\n",
              "       [ 0.00000000e+00,  2.00000000e+04, -1.00000000e+04, ...,\n",
              "         0.00000000e+00,  0.00000000e+00,  0.00000000e+00],\n",
              "       [ 0.00000000e+00,  0.00000000e+00,  1.83333333e+04, ...,\n",
              "         0.00000000e+00,  0.00000000e+00,  0.00000000e+00],\n",
              "       ...,\n",
              "       [ 0.00000000e+00,  0.00000000e+00,  0.00000000e+00, ...,\n",
              "         1.17265896e+04, -1.24487673e+04,  8.33333333e+02],\n",
              "       [ 0.00000000e+00,  0.00000000e+00,  0.00000000e+00, ...,\n",
              "         0.00000000e+00,  9.38415372e+03, -9.28936429e+03],\n",
              "       [ 0.00000000e+00,  0.00000000e+00,  0.00000000e+00, ...,\n",
              "         0.00000000e+00,  0.00000000e+00,  1.00000000e+00]])"
            ]
          },
          "metadata": {},
          "execution_count": 19
        },
        {
          "output_type": "display_data",
          "data": {
            "text/plain": [
              "<Figure size 432x288 with 1 Axes>"
            ],
            "image/png": "[encoded data removed]"
          },
          "metadata": {
            "needs_background": "light"
          }
        }
      ]
    },
    {
      "cell_type": "markdown",
      "source": [
        "Given the original system, implement an algorithm to compute the eigenvalues and eigenvectors of the matrix . Exploit the computed LU factorization"
      ],
      "metadata": {
        "id": "6ny07LV5b2fN"
      }
    },
    {
      "cell_type": "code",
      "source": [
        "def eigendecomposition(A,nmax,tol=1e-08):\n",
        "    n=len(A)\n",
        "    d=zeros(n) #autovalori\n",
        "    V=zeros([n,n]) #autovettori\n",
        "    for i in range(n):\n",
        "        d[i],V[:,i]=direct_power_method(A,nmax,tol)\n",
        "        A=A-d[i]*outer(V[:,i],V[:,i])\n",
        "    return d,V"
      ],
      "metadata": {
        "id": "2Ex8WfLTPPyv"
      },
      "execution_count": null,
      "outputs": []
    },
    {
      "cell_type": "markdown",
      "source": [
        "Compute the inverse of the matrix A exploiting the derived LU factorization"
      ],
      "metadata": {
        "id": "hpoNfyFeb7Zd"
      }
    },
    {
      "cell_type": "code",
      "source": [
        "def inverse(A):\n",
        "    n=shape(A)[0]\n",
        "    B=A.copy()\n",
        "    I=eye(n)\n",
        "    for i in range(n):\n",
        "        B[:,i]=U_solve(U,L_solve(L,I[:,i]))\n",
        "    return B"
      ],
      "metadata": {
        "id": "IoP1I-vYPWBd"
      },
      "execution_count": null,
      "outputs": []
    },
    {
      "cell_type": "markdown",
      "source": [
        "Implement a Backward Euler's method in a suitable function and solve the resulting non-linear equation using a Newton's method."
      ],
      "metadata": {
        "id": "cwuFPjEmcEOC"
      }
    },
    {
      "cell_type": "code",
      "source": [
        "def newton(f,f1,x0,epsilon=1e-10,max_iter=500):\n",
        "    x = x0\n",
        "    for n in range(0,max_iter):\n",
        "        if abs(f(x)) < epsilon:\n",
        "            return x\n",
        "        if f1(x) == 0:\n",
        "            return None\n",
        "        x = x - f(x)/f1(x)\n",
        "    return x\n",
        "\n",
        "\n",
        "def backward_euler(y0,f,f1,omega,n):\n",
        "    tspace=linspace(omega[0],omega[1],n)\n",
        "    h=(omega[1]-omega[0])/n\n",
        "    F=lambda t,z,x: z-h*f(t,z)-x # F(u_n+1) = u_n+1 - u_n - h*f_n+1\n",
        "    F1=lambda t,z,x: 1-h*f1(t,z) #F'(u_n+1)\n",
        "    y=zeros(n)\n",
        "    y[0]=y0\n",
        "    for i in range(1,n):\n",
        "        Ft=lambda z: F(tspace[i],z,y[i-1])\n",
        "        Ft1=lambda z: F1(tspace[i],z,y[i-1])\n",
        "        y[i]=newton(Ft,Ft1,y[i-1])\n",
        "    return y\n",
        "\n",
        "n=50\n",
        "f=lambda t,y: -t*(y**2)\n",
        "f1=lambda t,y: -t*2*y\n",
        "y=backward_euler(1,f,f1,array([0,2]),n)\n",
        "plot(linspace(0,2,n),y)\n",
        "plot(linspace(0,2,n),2/(linspace(0,2,n)**2+2))"
      ],
      "metadata": {
        "id": "RYBbsptcPY0E",
        "colab": {
          "base_uri": "https://localhost:8080/",
          "height": 282
        },
        "outputId": "017525b2-7698-40ee-a306-94886653c421"
      },
      "execution_count": 20,
      "outputs": [
        {
          "output_type": "execute_result",
          "data": {
            "text/plain": [
              "[<matplotlib.lines.Line2D at 0x7f8e36669b50>]"
            ]
          },
          "metadata": {},
          "execution_count": 20
        },
        {
          "output_type": "display_data",
          "data": {
            "text/plain": [
              "<Figure size 432x288 with 1 Axes>"
            ],
            "image/png": "[encoded data removed]"
          },
          "metadata": {
            "needs_background": "light"
          }
        }
      ]
    }
  ]
}